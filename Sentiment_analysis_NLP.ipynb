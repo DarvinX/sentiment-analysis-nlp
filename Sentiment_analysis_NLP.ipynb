{
  "nbformat": 4,
  "nbformat_minor": 0,
  "metadata": {
    "colab": {
      "name": "Sentiment_analysis_NLP.ipynb",
      "version": "0.3.2",
      "provenance": [],
      "collapsed_sections": [],
      "include_colab_link": true
    },
    "kernelspec": {
      "name": "python3",
      "display_name": "Python 3"
    },
    "accelerator": "GPU"
  },
  "cells": [
    {
      "cell_type": "markdown",
      "metadata": {
        "id": "view-in-github",
        "colab_type": "text"
      },
      "source": [
        "<a href=\"https://colab.research.google.com/github/DarvinX/sentiment-analysis-nlp/blob/master/Sentiment_analysis_NLP.ipynb\" target=\"_parent\"><img src=\"https://colab.research.google.com/assets/colab-badge.svg\" alt=\"Open In Colab\"/></a>"
      ]
    },
    {
      "cell_type": "code",
      "metadata": {
        "id": "WkW7NQ6dd5PQ",
        "colab_type": "code",
        "outputId": "a4bcc554-a7cc-4110-b21b-2fced5d8ddb5",
        "colab": {
          "base_uri": "https://localhost:8080/",
          "height": 173
        }
      },
      "source": [
        "!mkdir -p ~/.kaggle\n",
        "!cp kaggle.json ~/.kaggle/\n",
        "!chmod 600 /root/.kaggle/kaggle.json\n",
        "!kaggle competitions download -c sentiment-analysis-on-movie-reviews"
      ],
      "execution_count": 1,
      "outputs": [
        {
          "output_type": "stream",
          "text": [
            "Downloading test.tsv.zip to /content\n",
            "\r  0% 0.00/471k [00:00<?, ?B/s]\n",
            "\r100% 471k/471k [00:00<00:00, 33.2MB/s]\n",
            "Downloading sampleSubmission.csv to /content\n",
            "\r  0% 0.00/583k [00:00<?, ?B/s]\n",
            "100% 583k/583k [00:00<00:00, 37.6MB/s]\n",
            "Downloading train.tsv.zip to /content\n",
            "  0% 0.00/1.21M [00:00<?, ?B/s]\n",
            "100% 1.21M/1.21M [00:00<00:00, 81.5MB/s]\n"
          ],
          "name": "stdout"
        }
      ]
    },
    {
      "cell_type": "code",
      "metadata": {
        "id": "QZW9ZtEXeL1A",
        "colab_type": "code",
        "outputId": "31bd63cf-d075-4b5f-b6db-324471764f38",
        "colab": {
          "base_uri": "https://localhost:8080/",
          "height": 52
        }
      },
      "source": [
        "!unzip train.tsv.zip -d ./dataset"
      ],
      "execution_count": 2,
      "outputs": [
        {
          "output_type": "stream",
          "text": [
            "Archive:  train.tsv.zip\n",
            "  inflating: ./dataset/train.tsv     \n"
          ],
          "name": "stdout"
        }
      ]
    },
    {
      "cell_type": "code",
      "metadata": {
        "id": "gRvn9-pC893L",
        "colab_type": "code",
        "colab": {
          "base_uri": "https://localhost:8080/",
          "height": 364
        },
        "outputId": "4c6266d5-abf8-40a8-9b7b-f5d812337bde"
      },
      "source": [
        "!wget http://nlp.stanford.edu/data/glove.6B.zip"
      ],
      "execution_count": 64,
      "outputs": [
        {
          "output_type": "stream",
          "text": [
            "--2019-06-29 20:36:23--  http://nlp.stanford.edu/data/glove.6B.zip\n",
            "Resolving nlp.stanford.edu (nlp.stanford.edu)... 171.64.67.140\n",
            "Connecting to nlp.stanford.edu (nlp.stanford.edu)|171.64.67.140|:80... connected.\n",
            "HTTP request sent, awaiting response... 302 Found\n",
            "Location: https://nlp.stanford.edu/data/glove.6B.zip [following]\n",
            "--2019-06-29 20:36:23--  https://nlp.stanford.edu/data/glove.6B.zip\n",
            "Connecting to nlp.stanford.edu (nlp.stanford.edu)|171.64.67.140|:443... connected.\n",
            "HTTP request sent, awaiting response... 301 Moved Permanently\n",
            "Location: http://downloads.cs.stanford.edu/nlp/data/glove.6B.zip [following]\n",
            "--2019-06-29 20:36:23--  http://downloads.cs.stanford.edu/nlp/data/glove.6B.zip\n",
            "Resolving downloads.cs.stanford.edu (downloads.cs.stanford.edu)... 171.64.64.22\n",
            "Connecting to downloads.cs.stanford.edu (downloads.cs.stanford.edu)|171.64.64.22|:80... connected.\n",
            "HTTP request sent, awaiting response... 200 OK\n",
            "Length: 862182613 (822M) [application/zip]\n",
            "Saving to: ‘glove.6B.zip’\n",
            "\n",
            "glove.6B.zip        100%[===================>] 822.24M  38.9MB/s    in 22s     \n",
            "\n",
            "2019-06-29 20:36:45 (37.7 MB/s) - ‘glove.6B.zip’ saved [862182613/862182613]\n",
            "\n"
          ],
          "name": "stdout"
        }
      ]
    },
    {
      "cell_type": "code",
      "metadata": {
        "id": "-d2GrR4W9E0e",
        "colab_type": "code",
        "colab": {
          "base_uri": "https://localhost:8080/",
          "height": 104
        },
        "outputId": "b43e7c2a-536d-48f6-c789-c445921e0269"
      },
      "source": [
        "!unzip glove.6B.zip -d ./glove/"
      ],
      "execution_count": 66,
      "outputs": [
        {
          "output_type": "stream",
          "text": [
            "Archive:  glove.6B.zip\n",
            "  inflating: ./glove/glove.6B.50d.txt  \n",
            "  inflating: ./glove/glove.6B.100d.txt  \n",
            "  inflating: ./glove/glove.6B.200d.txt  \n",
            "  inflating: ./glove/glove.6B.300d.txt  \n"
          ],
          "name": "stdout"
        }
      ]
    },
    {
      "cell_type": "code",
      "metadata": {
        "id": "WB3fEpYJCxzq",
        "colab_type": "code",
        "colab": {}
      },
      "source": [
        "#paths\n",
        "data_file = './dataset/train.tsv'\n",
        "dataset = './dataset'"
      ],
      "execution_count": 0,
      "outputs": []
    },
    {
      "cell_type": "code",
      "metadata": {
        "id": "fZvIIU7VeZqf",
        "colab_type": "code",
        "outputId": "1a5cb2ce-1875-4d94-a63d-9574b4b835e3",
        "colab": {
          "base_uri": "https://localhost:8080/",
          "height": 206
        }
      },
      "source": [
        "import pandas as pd\n",
        "\n",
        "reviews = pd.read_csv(data_file, sep='\\t')\n",
        "reviews.head()"
      ],
      "execution_count": 5,
      "outputs": [
        {
          "output_type": "execute_result",
          "data": {
            "text/html": [
              "<div>\n",
              "<style scoped>\n",
              "    .dataframe tbody tr th:only-of-type {\n",
              "        vertical-align: middle;\n",
              "    }\n",
              "\n",
              "    .dataframe tbody tr th {\n",
              "        vertical-align: top;\n",
              "    }\n",
              "\n",
              "    .dataframe thead th {\n",
              "        text-align: right;\n",
              "    }\n",
              "</style>\n",
              "<table border=\"1\" class=\"dataframe\">\n",
              "  <thead>\n",
              "    <tr style=\"text-align: right;\">\n",
              "      <th></th>\n",
              "      <th>PhraseId</th>\n",
              "      <th>SentenceId</th>\n",
              "      <th>Phrase</th>\n",
              "      <th>Sentiment</th>\n",
              "    </tr>\n",
              "  </thead>\n",
              "  <tbody>\n",
              "    <tr>\n",
              "      <th>0</th>\n",
              "      <td>1</td>\n",
              "      <td>1</td>\n",
              "      <td>A series of escapades demonstrating the adage ...</td>\n",
              "      <td>1</td>\n",
              "    </tr>\n",
              "    <tr>\n",
              "      <th>1</th>\n",
              "      <td>2</td>\n",
              "      <td>1</td>\n",
              "      <td>A series of escapades demonstrating the adage ...</td>\n",
              "      <td>2</td>\n",
              "    </tr>\n",
              "    <tr>\n",
              "      <th>2</th>\n",
              "      <td>3</td>\n",
              "      <td>1</td>\n",
              "      <td>A series</td>\n",
              "      <td>2</td>\n",
              "    </tr>\n",
              "    <tr>\n",
              "      <th>3</th>\n",
              "      <td>4</td>\n",
              "      <td>1</td>\n",
              "      <td>A</td>\n",
              "      <td>2</td>\n",
              "    </tr>\n",
              "    <tr>\n",
              "      <th>4</th>\n",
              "      <td>5</td>\n",
              "      <td>1</td>\n",
              "      <td>series</td>\n",
              "      <td>2</td>\n",
              "    </tr>\n",
              "  </tbody>\n",
              "</table>\n",
              "</div>"
            ],
            "text/plain": [
              "   PhraseId  ...  Sentiment\n",
              "0         1  ...          1\n",
              "1         2  ...          2\n",
              "2         3  ...          2\n",
              "3         4  ...          2\n",
              "4         5  ...          2\n",
              "\n",
              "[5 rows x 4 columns]"
            ]
          },
          "metadata": {
            "tags": []
          },
          "execution_count": 5
        }
      ]
    },
    {
      "cell_type": "code",
      "metadata": {
        "colab_type": "code",
        "id": "B3Cgl4OJ0h4C",
        "colab": {}
      },
      "source": [
        "review_phrase = reviews['Phrase']\n",
        "review_sentiment = reviews['Sentiment']"
      ],
      "execution_count": 0,
      "outputs": []
    },
    {
      "cell_type": "code",
      "metadata": {
        "id": "jRhxeg2kEmfH",
        "colab_type": "code",
        "colab": {}
      },
      "source": [
        "import numpy as np\n",
        "\n",
        "Y_dim = (len(review_sentiment), 5)\n",
        "Y = np.zeros(Y_dim)"
      ],
      "execution_count": 0,
      "outputs": []
    },
    {
      "cell_type": "code",
      "metadata": {
        "id": "jeer53XTFgMv",
        "colab_type": "code",
        "colab": {}
      },
      "source": [
        "for i,sentiment in enumerate(review_sentiment):\n",
        "  Y[i][sentiment-1] = 1 #sentiments are numbers from 1 to 5"
      ],
      "execution_count": 0,
      "outputs": []
    },
    {
      "cell_type": "code",
      "metadata": {
        "id": "AJOxa6_8DRyF",
        "colab_type": "code",
        "outputId": "3656446e-6f97-4d34-f8ee-f7c01c551c95",
        "colab": {
          "base_uri": "https://localhost:8080/",
          "height": 52
        }
      },
      "source": [
        "#clean the Phrases\n",
        "import re\n",
        "import string\n",
        "\n",
        "rem = string.punctuation\n",
        "pattern = r\"[{}]\".format(rem)\n",
        "\n",
        "#remove punctuations\n",
        "review_phrase_cleaned = review_phrase.str.replace(pattern, '')\n"
      ],
      "execution_count": 44,
      "outputs": [
        {
          "output_type": "stream",
          "text": [
            "[nltk_data] Downloading package stopwords to /root/nltk_data...\n",
            "[nltk_data]   Package stopwords is already up-to-date!\n"
          ],
          "name": "stdout"
        }
      ]
    },
    {
      "cell_type": "code",
      "metadata": {
        "colab_type": "code",
        "outputId": "73f04b8a-48f1-4d83-88f8-45bf3bde5e0b",
        "id": "B4ahGZEz0iIx",
        "colab": {
          "base_uri": "https://localhost:8080/",
          "height": 1000
        }
      },
      "source": [
        "review_phrase_cleaned #dataset is too much noisy "
      ],
      "execution_count": 45,
      "outputs": [
        {
          "output_type": "execute_result",
          "data": {
            "text/plain": [
              "0         A series of escapades demonstrating the adage ...\n",
              "1         A series of escapades demonstrating the adage ...\n",
              "2                                                  A series\n",
              "3                                                         A\n",
              "4                                                    series\n",
              "5         of escapades demonstrating the adage that what...\n",
              "6                                                        of\n",
              "7         escapades demonstrating the adage that what is...\n",
              "8                                                 escapades\n",
              "9         demonstrating the adage that what is good for ...\n",
              "10                                  demonstrating the adage\n",
              "11                                            demonstrating\n",
              "12                                                the adage\n",
              "13                                                      the\n",
              "14                                                    adage\n",
              "15                          that what is good for the goose\n",
              "16                                                     that\n",
              "17                               what is good for the goose\n",
              "18                                                     what\n",
              "19                                    is good for the goose\n",
              "20                                                       is\n",
              "21                                       good for the goose\n",
              "22                                                     good\n",
              "23                                            for the goose\n",
              "24                                                      for\n",
              "25                                                the goose\n",
              "26                                                    goose\n",
              "27        is also good for the gander  some of which occ...\n",
              "28        is also good for the gander  some of which occ...\n",
              "29                                                  is also\n",
              "                                ...                        \n",
              "156030                          a joke in the United States\n",
              "156031    The movie s downfall is to substitute plot for...\n",
              "156032                                 The movie s downfall\n",
              "156033               is to substitute plot for personality \n",
              "156034                is to substitute plot for personality\n",
              "156035                   to substitute plot for personality\n",
              "156036                      substitute plot for personality\n",
              "156037                                      substitute plot\n",
              "156038                                      for personality\n",
              "156039    The film is darkly atmospheric  with Herrmann ...\n",
              "156040    is darkly atmospheric  with Herrmann quietly s...\n",
              "156041    is darkly atmospheric  with Herrmann quietly s...\n",
              "156042                               is darkly atmospheric \n",
              "156043                                is darkly atmospheric\n",
              "156044    with Herrmann quietly suggesting the sadness a...\n",
              "156045    Herrmann quietly suggesting the sadness and ob...\n",
              "156046                                             Herrmann\n",
              "156047    quietly suggesting the sadness and obsession b...\n",
              "156048    suggesting the sadness and obsession beneath H...\n",
              "156049                 suggesting the sadness and obsession\n",
              "156050                            the sadness and obsession\n",
              "156051                                sadness and obsession\n",
              "156052                                          sadness and\n",
              "156053           beneath Hearst s forced avuncular chortles\n",
              "156054                   Hearst s forced avuncular chortles\n",
              "156055                                             Hearst s\n",
              "156056                            forced avuncular chortles\n",
              "156057                                   avuncular chortles\n",
              "156058                                            avuncular\n",
              "156059                                             chortles\n",
              "Name: Phrase, Length: 156060, dtype: object"
            ]
          },
          "metadata": {
            "tags": []
          },
          "execution_count": 45
        }
      ]
    },
    {
      "cell_type": "code",
      "metadata": {
        "id": "lCUmyE19DUB1",
        "colab_type": "code",
        "colab": {}
      },
      "source": [
        "from keras.preprocessing.text import Tokenizer\n",
        "from keras.preprocessing.sequence import pad_sequences\n",
        "\n",
        "max_features = 10000\n",
        "\n",
        "tokenizer = Tokenizer(num_words = max_features, split=' ')\n",
        "\n",
        "tokenizer.fit_on_texts(review_phrase_cleaned.values)\n",
        "X = tokenizer.texts_to_sequences(review_phrase_cleaned.values)\n",
        "X = pad_sequences(X)"
      ],
      "execution_count": 0,
      "outputs": []
    },
    {
      "cell_type": "code",
      "metadata": {
        "id": "bCRXtEIkEg1K",
        "colab_type": "code",
        "outputId": "d40e3479-6f7c-496e-abc4-fa6314d1fb17",
        "colab": {
          "base_uri": "https://localhost:8080/",
          "height": 34
        }
      },
      "source": [
        "X.shape"
      ],
      "execution_count": 56,
      "outputs": [
        {
          "output_type": "execute_result",
          "data": {
            "text/plain": [
              "(156060, 48)"
            ]
          },
          "metadata": {
            "tags": []
          },
          "execution_count": 56
        }
      ]
    },
    {
      "cell_type": "code",
      "metadata": {
        "id": "slZ_MnI6HNxX",
        "colab_type": "code",
        "outputId": "f2ea80e4-3e15-41f9-dbbe-5cd7c0fc32c4",
        "colab": {
          "base_uri": "https://localhost:8080/",
          "height": 52
        }
      },
      "source": [
        "#split train and validation data\n",
        "from sklearn.model_selection import train_test_split\n",
        "\n",
        "x_train, x_val, y_train, y_val = train_test_split(X,Y, test_size = 0.2, random_state = 33)\n",
        "print(x_train.shape,y_train.shape)\n",
        "print(x_val.shape,y_val.shape)"
      ],
      "execution_count": 57,
      "outputs": [
        {
          "output_type": "stream",
          "text": [
            "(124848, 48) (124848, 5)\n",
            "(31212, 48) (31212, 5)\n"
          ],
          "name": "stdout"
        }
      ]
    },
    {
      "cell_type": "code",
      "metadata": {
        "id": "8MepdLqn75Xr",
        "colab_type": "code",
        "colab": {}
      },
      "source": [
        "def get_coefs(word, *arr):\n",
        "    return word, np.asarray(arr, dtype='float32')\n",
        "    \n",
        "def get_embed_mat(EMBEDDING_FILE, max_features,embed_dim):\n",
        "    # word vectors\n",
        "    embeddings_index = dict(get_coefs(*o.rstrip().rsplit(' ')) for o in open(EMBEDDING_FILE, encoding='utf8'))\n",
        "    print('Found %s word vectors.' % len(embeddings_index))\n",
        "\n",
        "    # embedding matrix\n",
        "    word_index = tokenizer.word_index\n",
        "    num_words = min(max_features, len(word_index) + 1)\n",
        "    all_embs = np.stack(embeddings_index.values()) #for random init\n",
        "    embedding_matrix = np.random.normal(all_embs.mean(), all_embs.std(), \n",
        "                                        (num_words, embed_dim))\n",
        "    for word, i in word_index.items():\n",
        "        if i >= max_features:\n",
        "            continue\n",
        "        embedding_vector = embeddings_index.get(word)\n",
        "        if embedding_vector is not None:\n",
        "            embedding_matrix[i] = embedding_vector\n",
        "    max_features = embedding_matrix.shape[0]\n",
        "    \n",
        "    return embedding_matrix"
      ],
      "execution_count": 0,
      "outputs": []
    },
    {
      "cell_type": "code",
      "metadata": {
        "id": "jZqBqIw49dlt",
        "colab_type": "code",
        "colab": {
          "base_uri": "https://localhost:8080/",
          "height": 106
        },
        "outputId": "14ea8f03-7ca7-40d0-84e0-e5dbed072967"
      },
      "source": [
        "# embedding matrix\n",
        "EMBEDDING_FILE = './glove/glove.6B.100d.txt'\n",
        "embed_dim = 100 #word vector dim\n",
        "embedding_matrix = get_embed_mat(EMBEDDING_FILE,max_features,embed_dim)\n",
        "print(embedding_matrix.shape)"
      ],
      "execution_count": 69,
      "outputs": [
        {
          "output_type": "stream",
          "text": [
            "Found 400000 word vectors.\n"
          ],
          "name": "stdout"
        },
        {
          "output_type": "stream",
          "text": [
            "/usr/local/lib/python3.6/dist-packages/ipykernel_launcher.py:12: FutureWarning: arrays to stack must be passed as a \"sequence\" type such as list or tuple. Support for non-sequence iterables such as generators is deprecated as of NumPy 1.16 and will raise an error in the future.\n",
            "  if sys.path[0] == '':\n"
          ],
          "name": "stderr"
        },
        {
          "output_type": "stream",
          "text": [
            "(10000, 100)\n"
          ],
          "name": "stdout"
        }
      ]
    },
    {
      "cell_type": "code",
      "metadata": {
        "id": "dyY8S-G-ImhD",
        "colab_type": "code",
        "outputId": "3f08ea8d-fddc-4944-fb7c-ca2a1a7642bc",
        "colab": {
          "base_uri": "https://localhost:8080/",
          "height": 486
        }
      },
      "source": [
        "from keras.models import Sequential\n",
        "from keras.layers import Dense, Embedding, GRU, Flatten, Conv1D, MaxPooling1D, Dropout, Bidirectional\n",
        "from keras.optimizers import Adam\n",
        "\n",
        "filters = 64\n",
        "pool_size = 2\n",
        "kernel_size = 3\n",
        "gru_out = 128\n",
        "\n",
        "model = Sequential()\n",
        "model.add(Embedding(max_features,embed_dim,input_length=X.shape[1], weights=[embedding_matrix], trainable=True))\n",
        "model.add(Conv1D(filters,kernel_size=kernel_size,padding='same',activation='relu'))\n",
        "model.add(MaxPooling1D(pool_size=pool_size))\n",
        "model.add(Dropout(0.25))\n",
        "model.add(Bidirectional(GRU(gru_out,return_sequences=True)))\n",
        "model.add(Dropout(0.3))\n",
        "model.add(Flatten())\n",
        "model.add(Dense(128,activation='relu'))\n",
        "model.add(Dropout(0.5))\n",
        "model.add(Dense(5,activation='softmax'))\n",
        "model.compile(loss='categorical_crossentropy',optimizer='adam',metrics=['accuracy'])\n",
        "model.summary()"
      ],
      "execution_count": 85,
      "outputs": [
        {
          "output_type": "stream",
          "text": [
            "_________________________________________________________________\n",
            "Layer (type)                 Output Shape              Param #   \n",
            "=================================================================\n",
            "embedding_20 (Embedding)     (None, 48, 100)           1000000   \n",
            "_________________________________________________________________\n",
            "conv1d_20 (Conv1D)           (None, 48, 64)            19264     \n",
            "_________________________________________________________________\n",
            "max_pooling1d_20 (MaxPooling (None, 24, 64)            0         \n",
            "_________________________________________________________________\n",
            "dropout_44 (Dropout)         (None, 24, 64)            0         \n",
            "_________________________________________________________________\n",
            "bidirectional_1 (Bidirection (None, 24, 256)           148224    \n",
            "_________________________________________________________________\n",
            "dropout_45 (Dropout)         (None, 24, 256)           0         \n",
            "_________________________________________________________________\n",
            "flatten_13 (Flatten)         (None, 6144)              0         \n",
            "_________________________________________________________________\n",
            "dense_31 (Dense)             (None, 128)               786560    \n",
            "_________________________________________________________________\n",
            "dropout_46 (Dropout)         (None, 128)               0         \n",
            "_________________________________________________________________\n",
            "dense_32 (Dense)             (None, 5)                 645       \n",
            "=================================================================\n",
            "Total params: 1,954,693\n",
            "Trainable params: 1,954,693\n",
            "Non-trainable params: 0\n",
            "_________________________________________________________________\n"
          ],
          "name": "stdout"
        }
      ]
    },
    {
      "cell_type": "code",
      "metadata": {
        "id": "tSLCKDlJmM2z",
        "colab_type": "code",
        "outputId": "c3255dd2-c7a7-42c1-df85-2f040017ec68",
        "colab": {
          "base_uri": "https://localhost:8080/",
          "height": 208
        }
      },
      "source": [
        "from keras.callbacks import ModelCheckpoint\n",
        "model_name = 'Sentiment_analysis_nlp.h5'\n",
        "checkpointer = ModelCheckpoint(filepath=model_name,monitor='val_acc', verbose=0, save_best_only=True)\n",
        "\n",
        "history = model.fit(x_train, y_train,\n",
        "          epochs=5,\n",
        "          batch_size = 128,\n",
        "          callbacks=[checkpointer],\n",
        "          validation_data=(x_val,y_val))"
      ],
      "execution_count": 86,
      "outputs": [
        {
          "output_type": "stream",
          "text": [
            "Train on 124848 samples, validate on 31212 samples\n",
            "Epoch 1/5\n",
            "124848/124848 [==============================] - 116s 931us/step - loss: 1.0189 - acc: 0.5920 - val_loss: 0.8791 - val_acc: 0.6373\n",
            "Epoch 2/5\n",
            "124848/124848 [==============================] - 110s 877us/step - loss: 0.8659 - acc: 0.6483 - val_loss: 0.8473 - val_acc: 0.6574\n",
            "Epoch 3/5\n",
            "124848/124848 [==============================] - 109s 877us/step - loss: 0.8111 - acc: 0.6690 - val_loss: 0.8323 - val_acc: 0.6644\n",
            "Epoch 4/5\n",
            "124848/124848 [==============================] - 109s 875us/step - loss: 0.7767 - acc: 0.6809 - val_loss: 0.8175 - val_acc: 0.6686\n",
            "Epoch 5/5\n",
            "124848/124848 [==============================] - 110s 880us/step - loss: 0.7478 - acc: 0.6925 - val_loss: 0.8127 - val_acc: 0.6708\n"
          ],
          "name": "stdout"
        }
      ]
    },
    {
      "cell_type": "code",
      "metadata": {
        "id": "YsQ-Dax6myOg",
        "colab_type": "code",
        "outputId": "bbbf6bcd-8aa2-49ff-dde0-ca44f87bf7a9",
        "colab": {
          "base_uri": "https://localhost:8080/",
          "height": 350
        }
      },
      "source": [
        "import matplotlib.pyplot as plt\n",
        "\n",
        "plt.figure(figsize=(15,5))\n",
        "\n",
        "plt.subplot(1, 2, 1)\n",
        "plt.plot(history.history['loss'])\n",
        "plt.plot(history.history['val_loss'])\n",
        "plt.title('model loss')\n",
        "plt.xlabel('epochs')\n",
        "plt.ylabel('loss')\n",
        "plt.legend(['train', 'test'], loc='upper left')\n",
        "\n",
        "plt.subplot(1, 2, 2)\n",
        "plt.plot(history.history['acc'])\n",
        "plt.plot(history.history['val_acc'])\n",
        "plt.title('model accuracy')\n",
        "plt.xlabel('epochs')\n",
        "plt.ylabel('acc')\n",
        "plt.legend(['train', 'test'], loc='upper left')\n",
        "\n",
        "plt.show()"
      ],
      "execution_count": 87,
      "outputs": [
        {
          "output_type": "display_data",
          "data": {
            "image/png": "[encoded data removed]",
            "text/plain": [
              "<Figure size 1080x360 with 2 Axes>"
            ]
          },
          "metadata": {
            "tags": []
          }
        }
      ]
    },
    {
      "cell_type": "code",
      "metadata": {
        "id": "VBXBpWC0Yzwb",
        "colab_type": "code",
        "outputId": "66a8f485-8433-4c40-ddee-1736dc4220c4",
        "colab": {
          "base_uri": "https://localhost:8080/",
          "height": 52
        }
      },
      "source": [
        "from keras.models import load_model\n",
        "\n",
        "#retrieving model from the checkpoint\n",
        "best = load_model(model_name)\n",
        "_, acc = best.evaluate(x_val, y_val)\n",
        "\n",
        "print(\"validation accuracy: \", acc)"
      ],
      "execution_count": 88,
      "outputs": [
        {
          "output_type": "stream",
          "text": [
            "31212/31212 [==============================] - 39s 1ms/step\n",
            "validation accuracy:  0.6708317313777259\n"
          ],
          "name": "stdout"
        }
      ]
    },
    {
      "cell_type": "code",
      "metadata": {
        "id": "H858aHRFIy7S",
        "colab_type": "code",
        "colab": {}
      },
      "source": [
        ""
      ],
      "execution_count": 0,
      "outputs": []
    }
  ]
}